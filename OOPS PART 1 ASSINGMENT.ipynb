{
 "cells": [
  {
   "cell_type": "code",
   "execution_count": null,
   "id": "65cf2a66-6698-4f37-bc0b-c462c8281c37",
   "metadata": {},
   "outputs": [],
   "source": [
    "#ans1\n",
    "#ans 1\n",
    "A class can have attributes and methods. Attributes are variables that store data, while methods are functions that define the behavior of the object. For example, a class called \"Car\" might have attributes such as \"make\", \"model\", and \"year\". It might also have methods such as \"drive()\" and \"stop()\".\n",
    "\n",
    "\n",
    "Objects are created from classes using the new keyword. For example, the following code creates a new object from the \"Car\" class:"
   ]
  },
  {
   "cell_type": "code",
   "execution_count": null,
   "id": "d559d9d5-994d-4cd8-bf6c-f8a68701464a",
   "metadata": {},
   "outputs": [],
   "source": [
    "#ans 2\n",
    "Encapsulation\n",
    "Inheritance\n",
    "Polymorphism\n",
    "Abstraction"
   ]
  },
  {
   "cell_type": "code",
   "execution_count": null,
   "id": "c8854a6c-445a-43d7-af0d-467947e83ba7",
   "metadata": {},
   "outputs": [],
   "source": [
    "#ans 3\n",
    "__init__ method in Python is used to initialize objects of a class. It is also called a constructor."
   ]
  },
  {
   "cell_type": "code",
   "execution_count": 2,
   "id": "ce809426-4f47-4f24-948f-9bf5e58f9ea3",
   "metadata": {},
   "outputs": [
    {
     "name": "stdout",
     "output_type": "stream",
     "text": [
      "2022 Toyota Camry\n",
      "This car has 0 miles on it.\n",
      "This car has 100 miles on it.\n",
      "This car has 150 miles on it.\n"
     ]
    }
   ],
   "source": [
    "#example\n",
    "class Car:\n",
    "    def __init__(self, make, model, year):\n",
    "        self.make = make\n",
    "        self.model = model\n",
    "        self.year = year\n",
    "        self.odometer_reading = 0  \n",
    "    def get_descriptive_name(self):\n",
    "        return f\"{self.year} {self.make} {self.model}\"\n",
    "\n",
    "    def read_odometer(self):\n",
    "        return f\"This car has {self.odometer_reading} miles on it.\"\n",
    "\n",
    "    def update_odometer(self, mileage):\n",
    "        if mileage >= self.odometer_reading:\n",
    "            self.odometer_reading = mileage\n",
    "        else:\n",
    "            print(\"You can't roll back an odometer!\")\n",
    "\n",
    "    def increment_odometer(self, miles):\n",
    "        self.odometer_reading += miles\n",
    "\n",
    "my_car = Car(\"Toyota\", \"Camry\", 2022)\n",
    "\n",
    "\n",
    "print(my_car.get_descriptive_name()) \n",
    "print(my_car.read_odometer())         \n",
    "\n",
    "my_car.update_odometer(100)\n",
    "print(my_car.read_odometer())         \n",
    "\n",
    "\n",
    "my_car.increment_odometer(50)\n",
    "print(my_car.read_odometer())        \n"
   ]
  },
  {
   "cell_type": "code",
   "execution_count": null,
   "id": "25f47783-d58c-4beb-a633-54b5daadf916",
   "metadata": {},
   "outputs": [],
   "source": [
    "#ans 4\n",
    "to represent the instance of the class."
   ]
  },
  {
   "cell_type": "code",
   "execution_count": null,
   "id": "78b4f6bd-f6bc-49a9-ba25-5a2b93620a12",
   "metadata": {},
   "outputs": [],
   "source": [
    "#ans 5\n",
    "inheritance is a mechanism that allows a class to inherit properties and behaviors from another class. It is a fundamental concept in OOP that promotes code reuse and establishes relationships between classes.\n",
    "\n",
    "Accessing Instance Variables\n",
    "Calling other Methods\n",
    "Creating Instance-Specific Attributes\n",
    "Passing the Instance as an Argument"
   ]
  }
 ],
 "metadata": {
  "kernelspec": {
   "display_name": "Python 3 (ipykernel)",
   "language": "python",
   "name": "python3"
  },
  "language_info": {
   "codemirror_mode": {
    "name": "ipython",
    "version": 3
   },
   "file_extension": ".py",
   "mimetype": "text/x-python",
   "name": "python",
   "nbconvert_exporter": "python",
   "pygments_lexer": "ipython3",
   "version": "3.10.8"
  }
 },
 "nbformat": 4,
 "nbformat_minor": 5
}
