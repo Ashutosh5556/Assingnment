{
 "cells": [
  {
   "cell_type": "code",
   "execution_count": 1,
   "id": "f0f371bc-a338-416f-b074-c37d7ff8c4e4",
   "metadata": {},
   "outputs": [],
   "source": [
    "#ans 1"
   ]
  },
  {
   "cell_type": "code",
   "execution_count": 2,
   "id": "20db6805-60a6-493d-9e59-4113dfcf83a6",
   "metadata": {},
   "outputs": [
    {
     "ename": "SyntaxError",
     "evalue": "invalid syntax (3060632018.py, line 1)",
     "output_type": "error",
     "traceback": [
      "\u001b[0;36m  Cell \u001b[0;32mIn[2], line 1\u001b[0;36m\u001b[0m\n\u001b[0;31m    Abstraction is used to hide the internal functionality of the function from the users. The users only interact with the basic implementation of the function, but inner working is hidden.\u001b[0m\n\u001b[0m                        ^\u001b[0m\n\u001b[0;31mSyntaxError\u001b[0m\u001b[0;31m:\u001b[0m invalid syntax\n"
     ]
    }
   ],
   "source": [
    "Abstraction is used to hide the internal functionality of the function from the users. The users only interact with the basic implementation of the function, but inner working is hidden."
   ]
  },
  {
   "cell_type": "code",
   "execution_count": 3,
   "id": "1d5bfd03-e9d8-4ddb-a8aa-5aae147e2d03",
   "metadata": {},
   "outputs": [],
   "source": [
    "#ans 2"
   ]
  },
  {
   "cell_type": "code",
   "execution_count": null,
   "id": "56461355-408c-44de-8a87-e970dbc0dbd8",
   "metadata": {},
   "outputs": [],
   "source": []
  },
  {
   "cell_type": "code",
   "execution_count": null,
   "id": "8b906e66-53c4-4145-99a6-a257043c8dbd",
   "metadata": {},
   "outputs": [],
   "source": [
    "Abstraction is a way of representing some specific data. Encapsulation is a way of hiding the complexity of something and exposing only the parts you wish to expose. For example, if you have a class that has one or more private fields that you use to store the data, then you are in encapsulation. "
   ]
  },
  {
   "cell_type": "code",
   "execution_count": 4,
   "id": "1f49aee3-fe35-4c52-8d8b-deca799c4b4c",
   "metadata": {},
   "outputs": [],
   "source": [
    "#ans 3"
   ]
  },
  {
   "cell_type": "code",
   "execution_count": null,
   "id": "3e0d92a3-7580-4135-b045-c190ebb42cf5",
   "metadata": {},
   "outputs": [],
   "source": []
  }
 ],
 "metadata": {
  "kernelspec": {
   "display_name": "Python 3 (ipykernel)",
   "language": "python",
   "name": "python3"
  },
  "language_info": {
   "codemirror_mode": {
    "name": "ipython",
    "version": 3
   },
   "file_extension": ".py",
   "mimetype": "text/x-python",
   "name": "python",
   "nbconvert_exporter": "python",
   "pygments_lexer": "ipython3",
   "version": "3.10.8"
  }
 },
 "nbformat": 4,
 "nbformat_minor": 5
}
