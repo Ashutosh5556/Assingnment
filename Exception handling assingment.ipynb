{
 "cells": [
  {
   "cell_type": "code",
   "execution_count": null,
   "id": "7cb4582f-37f4-4743-b66b-a5a14014b7eb",
   "metadata": {},
   "outputs": [],
   "source": [
    "# ans 1\n",
    "In Python, an exception is an event that occurs during the execution of a program that disrupts the normal flow of instructions. When an exceptional circumstance arises, an object representing that exception is created and thrown in the program. This can happen due to various reasons such as invalid user input, file not found, division by zero, etc.\n",
    "\n",
    "Exceptions are categorized into two main types:\n",
    "\n",
    "Built-in Exceptions: These exceptions are defined by the Python language and are raised when an error occurs during the execution of a program. Examples include ValueError, TypeError, ZeroDivisionError, FileNotFoundError, etc.\n",
    "User-defined Exceptions: These exceptions are created by the programmer to indicate errors or exceptional conditions that are specific to their program. They are typically defined as custom classes inheriting from the Exception class or one of its subclasses.\n",
    "Here's the difference between exceptions and syntax errors:\n",
    "\n",
    "Exceptions: Exceptions occur during the execution of a program and disrupt the normal flow of instructions. They can be handled using try-except blocks to gracefully recover from errors.\n",
    "Syntax Errors: Syntax errors, on the other hand, occur when the Python interpreter encounters invalid Python syntax. These errors are detected by the Python parser during the parsing phase before the program is executed. Syntax errors prevent the program from running and must be fixed before the program can be executed.\n",
    "In summary, exceptions represent runtime errors that occur during the execution of a program, while syntax errors are errors in the code structure that prevent the program from being executed at all.\n",
    "\n",
    "\n",
    "\n",
    "\n",
    "\n"
   ]
  },
  {
   "cell_type": "code",
   "execution_count": null,
   "id": "684e4c2d-6cbf-43fb-9ab0-d23e133a72ec",
   "metadata": {},
   "outputs": [],
   "source": [
    "#ans 2\n",
    "\n",
    "When an exception is not handled in Python, it results in the termination of the program's execution and the display of an error traceback. Let's consider an example to understand this:\n",
    "    \n",
    "    def divide(x, y):\n",
    "    result = x / y\n",
    "    return result\n",
    "\n",
    "# This function call will raise a ZeroDivisionError\n",
    "result = divide(10, 0)\n",
    "print(result)\n"
   ]
  },
  {
   "cell_type": "markdown",
   "id": "410a12d3-c727-48e9-b9cd-71b76d1cccea",
   "metadata": {},
   "source": [
    "#ans 3\n",
    "try: The try block is used to enclose the code that might raise an exception. It allows you to test a block of code for errors.\n",
    "except: The except block is used to handle specific exceptions that occur within the try block. If an exception occurs, control jumps to the appropriate except block.\n",
    "else: The else block is executed if no exception occurs in the try block. It is typically used to perform actions that should only occur if no exception was raised.\n",
    "finally: The finally block is always executed, regardless of whether an exception occurred in the try block or not. It is usually used to perform cleanup actions, such as closing files or releasing resources.\n",
    "Here's an example demonstrating the use of these statements:\n",
    "\n",
    "def divide(x, y):\n",
    "    try:\n",
    "        result = x / y\n",
    "    except ZeroDivisionError:\n",
    "        print(\"Error: Cannot divide by zero!\")\n",
    "    else:\n",
    "        print(\"Division result:\", result)\n",
    "    finally:\n",
    "        print(\"Execution completed.\")\n",
    "\n",
    "# Example 1: Division by zero\n",
    "divide(10, 0)\n",
    "\n",
    "# Example 2: Valid division\n",
    "divide(10, 2)\n"
   ]
  },
  {
   "cell_type": "code",
   "execution_count": null,
   "id": "88d5a697-307f-4d65-b9d3-7b6a19de0ad5",
   "metadata": {},
   "outputs": [],
   "source": [
    "#ans 4\n",
    "def divide(x, y):\n",
    "    try:\n",
    "        result = x / y\n",
    "    except ZeroDivisionError:\n",
    "        print(\"Error: Cannot divide by zero!\")\n",
    "    else:\n",
    "        print(\"Division result:\", result)\n",
    "        # This will raise a TypeError\n",
    "        raise TypeError(\"An example of an error raised in the else block\")\n",
    "    finally:\n",
    "        print(\"Execution completed.\")\n",
    "\n",
    "# Example: Division by a non-zero number\n",
    "divide(10, 2)\n"
   ]
  },
  {
   "cell_type": "code",
   "execution_count": null,
   "id": "705842a8-6570-4cb5-8aa4-2ab0bd5ddd95",
   "metadata": {},
   "outputs": [],
   "source": [
    "#ans 5"
   ]
  }
 ],
 "metadata": {
  "kernelspec": {
   "display_name": "Python 3 (ipykernel)",
   "language": "python",
   "name": "python3"
  },
  "language_info": {
   "codemirror_mode": {
    "name": "ipython",
    "version": 3
   },
   "file_extension": ".py",
   "mimetype": "text/x-python",
   "name": "python",
   "nbconvert_exporter": "python",
   "pygments_lexer": "ipython3",
   "version": "3.10.8"
  }
 },
 "nbformat": 4,
 "nbformat_minor": 5
}
