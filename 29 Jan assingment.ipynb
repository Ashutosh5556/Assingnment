{
 "cells": [
  {
   "cell_type": "code",
   "execution_count": null,
   "id": "cc98dc30-6013-4e1d-bdc3-298a51f91d71",
   "metadata": {},
   "outputs": [],
   "source": [
    "# Answer 1 : Guido van Rossum\n",
    "# Answer 2 : object-oriented and procedural programming\n",
    "# Answer 3 :  Yes, Python is a case-sensitive language. That is, it considers uppercase and lowercase characters differently. The property is useful while naming identifiers to make the code more readable and maintainable\n",
    "# Answer 4 : .py , .pyc\n",
    "# Answer 5 :  interpreted\n",
    "# Answer 6 : indentation \n",
    "# Answer 7 : Hash(#)\n",
    "# Answer 8 : sys.version\n",
    "# Answer 9 : lambda\n",
    "# Answer 10 : python enhancement proposal\n",
    "# Answe 11 : print(),type(),input(),len()\n",
    "# Answer 12 : 79 characters\n",
    "# Answer 13 : simple to use and understand,interpreted lang,productivity has increased,free and open source\n",
    "# Answer 14 : python memory manager\n",
    "# Answer 16 : yes"
   ]
  }
 ],
 "metadata": {
  "kernelspec": {
   "display_name": "Python 3 (ipykernel)",
   "language": "python",
   "name": "python3"
  },
  "language_info": {
   "codemirror_mode": {
    "name": "ipython",
    "version": 3
   },
   "file_extension": ".py",
   "mimetype": "text/x-python",
   "name": "python",
   "nbconvert_exporter": "python",
   "pygments_lexer": "ipython3",
   "version": "3.10.8"
  }
 },
 "nbformat": 4,
 "nbformat_minor": 5
}
