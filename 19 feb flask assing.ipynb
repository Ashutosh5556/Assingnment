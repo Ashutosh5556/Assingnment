{
 "cells": [
  {
   "cell_type": "code",
   "execution_count": null,
   "id": "b9b2c255-709b-42b0-a169-58e4cf191d41",
   "metadata": {},
   "outputs": [],
   "source": [
    "#ans 1\n",
    "\n",
    "\n",
    "ChatGPT\n",
    "Flask is a lightweight web framework for Python, known for its simplicity and flexibility. Its advantages include:\n",
    "\n",
    "Simplicity: Easy to learn and get started.\n",
    "Flexibility: Freedom to choose tools and libraries.\n",
    "Minimalistic: Focuses on core features; extensions for additional functionality.\n",
    "Built-in: Development server and debugger.\n",
    "Jinja2 Templating: Powerful and designer-friendly templates.\n",
    "Werkzeug: Solid foundation with utilities for HTTP handling.\n",
    "Documentation and Community: Excellent resources and active support network."
   ]
  },
  {
   "cell_type": "code",
   "execution_count": null,
   "id": "ba10ccd6-a743-4a5d-9ea2-64fead28f74b",
   "metadata": {},
   "outputs": [],
   "source": [
    "#ans 2\n",
    "\n",
    "from flask import Flask\n",
    "\n",
    "\n",
    "app = Flask(__name__)\n",
    "\n",
    "@app.route(\"/\")\n",
    "def hello_world():\n",
    "    return \"<h1>Hello, World!</h1>\"\n",
    "\n",
    "\n",
    "\n",
    "    \n",
    "\n",
    "if __name__==\"__main__\":\n",
    "    app.run(host=\"0.0.0.0\")"
   ]
  },
  {
   "cell_type": "code",
   "execution_count": null,
   "id": "cb75f03e-ace7-4151-8b8b-586308a0514f",
   "metadata": {},
   "outputs": [],
   "source": [
    "#ans 3\n",
    "\n",
    "In Flask, app routing refers to the process of mapping URLs (or routes) to Python functions. When a user makes a request to a specific URL on your Flask application, Flask uses the app routing mechanism to determine which Python function should handle that request. Here’s a breakdown of what app routing entails\n",
    "\n",
    "Modularization: Routes allow you to organize your application's code into logical units based on URL paths. Each route typically corresponds to a specific feature or functionality of your application.\n",
    "\n",
    "Clear Structure: App routes help in maintaining a clear and structured codebase. They separate the concerns of handling different URLs and functionalities into distinct functions, improving code readability and maintainability.\n",
    "\n",
    "URL Dispatching: Routes facilitate URL dispatching, which is the process of matching a requested URL to the appropriate Python function. This makes it easier to implement RESTful APIs or web applications with distinct endpoints.\n",
    "\n",
    "Variable Handling: Routes support dynamic URLs with variables (e.g., /user/<username>), allowing you to handle user inputs or parameters directly in your Python functions.\n",
    "\n",
    "HTTP Method Handling: Routes can be associated with specific HTTP methods (GET, POST, etc.), enabling you to handle different types of requests differently (e.g., displaying a form for GET and processing form data for POST)."
   ]
  },
  {
   "cell_type": "code",
   "execution_count": null,
   "id": "2879ca0c-5357-4ae4-b382-906be3c1de93",
   "metadata": {},
   "outputs": [],
   "source": [
    "#ans 4\n",
    "\n",
    "from flask import Flask\n",
    "\n",
    "app = Flask(__name__)\n",
    "\n",
    "@app.route('/welcome')\n",
    "def welcome():\n",
    "    return \"Welcome to ABC Corporation\"\n",
    "\n",
    "@app.route('/')\n",
    "def home():\n",
    "    return '''\n",
    "    Company Name: ABC Corporation<br>\n",
    "    Location: India<br>\n",
    "    Contact Detail: 999-999-9999\n",
    "    '''\n",
    "\n",
    "if __name__ == '__main__':\n",
    "    app.run(debug=True)\n"
   ]
  },
  {
   "cell_type": "code",
   "execution_count": null,
   "id": "2920c254-7a59-48bb-acf8-fb18b9684e12",
   "metadata": {},
   "outputs": [],
   "source": [
    "#ans 5\n",
    "\n",
    "n Flask, the url_for function is used for URL building. It allows you to build URLs dynamically for specific routes, which can be very helpful for maintaining and modifying URLs in a scalable way.\n",
    "\n"
   ]
  },
  {
   "cell_type": "code",
   "execution_count": null,
   "id": "4606ae93-c35e-4a5a-9d5e-2683aa0ff8ad",
   "metadata": {},
   "outputs": [],
   "source": []
  }
 ],
 "metadata": {
  "kernelspec": {
   "display_name": "Python 3 (ipykernel)",
   "language": "python",
   "name": "python3"
  },
  "language_info": {
   "codemirror_mode": {
    "name": "ipython",
    "version": 3
   },
   "file_extension": ".py",
   "mimetype": "text/x-python",
   "name": "python",
   "nbconvert_exporter": "python",
   "pygments_lexer": "ipython3",
   "version": "3.10.8"
  }
 },
 "nbformat": 4,
 "nbformat_minor": 5
}
