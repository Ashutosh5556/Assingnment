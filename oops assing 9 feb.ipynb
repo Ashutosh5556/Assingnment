{
 "cells": [
  {
   "cell_type": "code",
   "execution_count": 1,
   "id": "313ce22f-4a09-4681-8724-9939a5ef9c87",
   "metadata": {},
   "outputs": [
    {
     "name": "stdout",
     "output_type": "stream",
     "text": [
      "Name of Vehicle: Toyota Camry\n",
      "Max Speed: 180\n",
      "Average of Vehicle: 30\n"
     ]
    }
   ],
   "source": [
    "#ans 1\n",
    "class Vehicle:\n",
    "    def __init__(self, name_of_vehicle, max_speed, average_of_vehicle):\n",
    "        self.name_of_vehicle = name_of_vehicle\n",
    "        self.max_speed = max_speed\n",
    "        self.average_of_vehicle = average_of_vehicle\n",
    "\n",
    "# Example usage:\n",
    "car = Vehicle(\"Toyota Camry\", 180, 30)\n",
    "print(\"Name of Vehicle:\", car.name_of_vehicle)\n",
    "print(\"Max Speed:\", car.max_speed)\n",
    "print(\"Average of Vehicle:\", car.average_of_vehicle)\n"
   ]
  },
  {
   "cell_type": "code",
   "execution_count": 2,
   "id": "beeb5072-4930-497e-8572-5c6e3c3198ab",
   "metadata": {},
   "outputs": [
    {
     "name": "stdout",
     "output_type": "stream",
     "text": [
      "Toyota Camry has a seating capacity of 5 passengers.\n"
     ]
    }
   ],
   "source": [
    "#ans 2\n",
    "class Car(Vehicle):\n",
    "    def __init__(self, name_of_vehicle, max_speed, average_of_vehicle):\n",
    "        super().__init__(name_of_vehicle, max_speed, average_of_vehicle)\n",
    "\n",
    "    def seating_capacity(self, capacity):\n",
    "        return f\"{self.name_of_vehicle} has a seating capacity of {capacity} passengers.\"\n",
    "\n",
    "# Example usage:\n",
    "car1 = Car(\"Toyota Camry\", 180, 30)\n",
    "print(car1.seating_capacity(5)) \n"
   ]
  },
  {
   "cell_type": "code",
   "execution_count": 3,
   "id": "9b905f6b-6026-491b-8039-41ac382b5fe9",
   "metadata": {},
   "outputs": [
    {
     "name": "stdout",
     "output_type": "stream",
     "text": [
      "Method 1 from Parent 1\n",
      "Method 2 from Parent 2\n",
      "Method 3 from Child\n"
     ]
    }
   ],
   "source": [
    "#ans 3\n",
    "class Parent1:\n",
    "    def method1(self):\n",
    "        print(\"Method 1 from Parent 1\")\n",
    "\n",
    "\n",
    "class Parent2:\n",
    "    def method2(self):\n",
    "        print(\"Method 2 from Parent 2\")\n",
    "\n",
    "\n",
    "class Child(Parent1, Parent2):\n",
    "    def method3(self):\n",
    "        print(\"Method 3 from Child\")\n",
    "\n",
    "\n",
    "# Create an instance of Child class\n",
    "child_obj = Child()\n",
    "\n",
    "# Call methods from Parent1\n",
    "child_obj.method1()\n",
    "\n",
    "# Call methods from Parent2\n",
    "child_obj.method2()\n",
    "\n",
    "# Call method from Child\n",
    "child_obj.method3()\n"
   ]
  },
  {
   "cell_type": "code",
   "execution_count": 4,
   "id": "4022a08b-dace-4fde-a49b-aa1462da2389",
   "metadata": {},
   "outputs": [
    {
     "name": "stdout",
     "output_type": "stream",
     "text": [
      "Name: Alice\n",
      "Age: 30\n",
      "Updated Age: 25\n"
     ]
    }
   ],
   "source": [
    "class Person:\n",
    "    def __init__(self, name, age):\n",
    "        self._name = name  # Private attribute\n",
    "        self._age = age    # Private attribute\n",
    "\n",
    "    # Getter method for name\n",
    "    def get_name(self):\n",
    "        return self._name\n",
    "\n",
    "    # Setter method for name\n",
    "    def set_name(self, name):\n",
    "        self._name = name\n",
    "\n",
    "    # Getter method for age\n",
    "    def get_age(self):\n",
    "        return self._age\n",
    "\n",
    "    # Setter method for age\n",
    "    def set_age(self, age):\n",
    "        if age > 0:\n",
    "            self._age = age\n",
    "        else:\n",
    "            print(\"Age cannot be negative.\")\n",
    "\n",
    "# Create an instance of Person class\n",
    "person1 = Person(\"Alice\", 30)\n",
    "\n",
    "# Get name using getter method\n",
    "print(\"Name:\", person1.get_name())  # Output: Name: Alice\n",
    "\n",
    "# Set name using setter method\n",
    "person1.set_name(\"Bob\")\n",
    "\n",
    "# Get age using getter method\n",
    "print(\"Age:\", person1.get_age())    # Output: Age: 30\n",
    "\n",
    "# Set age using setter method\n",
    "person1.set_age(25)\n",
    "\n",
    "# Get age using getter method\n",
    "print(\"Updated Age:\", person1.get_age())  # Output: Updated Age: 25\n"
   ]
  },
  {
   "cell_type": "code",
   "execution_count": null,
   "id": "e0d9a856-52b0-45d3-84f5-ab6071ffd6de",
   "metadata": {},
   "outputs": [],
   "source": []
  }
 ],
 "metadata": {
  "kernelspec": {
   "display_name": "Python 3 (ipykernel)",
   "language": "python",
   "name": "python3"
  },
  "language_info": {
   "codemirror_mode": {
    "name": "ipython",
    "version": 3
   },
   "file_extension": ".py",
   "mimetype": "text/x-python",
   "name": "python",
   "nbconvert_exporter": "python",
   "pygments_lexer": "ipython3",
   "version": "3.10.8"
  }
 },
 "nbformat": 4,
 "nbformat_minor": 5
}
