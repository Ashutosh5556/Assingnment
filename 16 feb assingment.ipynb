{
 "cells": [
  {
   "cell_type": "code",
   "execution_count": null,
   "id": "d87bdd5e-51e2-411d-bf3a-52811228c770",
   "metadata": {},
   "outputs": [],
   "source": [
    "#ans 1\n",
    "\n",
    "A database is an organized collection of data, generally stored and accessed electronically from a computer system. Databases are designed to manage large bodies of information and allow for the storage, retrieval, and manipulation of data efficiently. Databases are managed by database management systems (DBMS), which provide tools and mechanisms to ensure data consistency, integrity, and security.\n",
    "\n",
    "Schema:\n",
    "\n",
    "SQL: Rigid schema with a fixed structure defined before data entry.\n",
    "NoSQL: Flexible, often schema-less, allowing dynamic and unstructured data.\n",
    "Scalability:\n",
    "\n",
    "SQL: Typically scales vertically by adding more power to a single server.\n",
    "NoSQL: Generally scales horizontally by adding more servers to distribute the load.\n",
    "Transactions:\n",
    "\n",
    "SQL: Supports ACID transactions for reliable and consistent operations.\n",
    "NoSQL: Often supports BASE (Basically Available, Soft state, Eventual consistency) for higher availability and partition tolerance.\n",
    "Use Cases:\n",
    "\n",
    "SQL: Best for complex queries, multi-row transactions, and applications requiring strong consistency (e.g., financial systems).\n",
    "NoSQL: Ideal for large-scale data, real-time web apps, big data analytics, and applications requiring flexible data models (e.g., social networks, content management systems).\n",
    "Query Language:\n",
    "\n",
    "SQL: Uses SQL for defining and manipulating data.\n",
    "NoSQL: Query mechanisms vary by database type (e.g., MongoDB uses a JSON-like query language, Cassandra uses CQL)."
   ]
  },
  {
   "cell_type": "code",
   "execution_count": null,
   "id": "1c3549e0-f5dd-4e33-8086-abe605a25acb",
   "metadata": {},
   "outputs": [],
   "source": [
    "#ans 2\n",
    "\n",
    "Data Definition Language (DDL) is a subset of SQL used to define, modify, and manage database structures such as schemas, tables, indexes, and constraints. DDL statements create, alter, and remove database objects, setting up the structure of the database\n",
    "\n",
    "CREATE: Used when you need to define a new table or other database object.\n",
    "DROP: Used when you need to completely remove a table or database object.\n",
    "ALTER: Used when you need to change the structure of an existing table or database object.\n",
    "TRUNCATE: Used when you need to quickly remove all data from a table but retain the table structure for future use."
   ]
  },
  {
   "cell_type": "code",
   "execution_count": null,
   "id": "56b34560-7301-4ea9-b91a-de5263105796",
   "metadata": {},
   "outputs": [],
   "source": [
    "#ans 3\n",
    "\n",
    "Data Manipulation Language (DML) is a subset of SQL used for managing data within database objects such as tables. DML commands enable users to insert, update, and delete data, facilitating the manipulation and retrieval of data stored in the database.\n",
    "\n",
    "INSERT: Used to add new rows of data into a table.\n",
    "UPDATE: Used to modify existing data in a table.\n",
    "DELETE: Used to remove existing rows from a table\n",
    "\n"
   ]
  },
  {
   "cell_type": "code",
   "execution_count": null,
   "id": "03a053b5-db63-4b4d-8465-e2053faebdd5",
   "metadata": {},
   "outputs": [],
   "source": [
    "#ans 4\n",
    "\n",
    "Data Query Language (DQL) is a subset of SQL used to query and retrieve data from a database. The primary command in DQL is SELECT, which allows users to specify the exact data they want to retrieve from one or more tables.\n",
    "\n",
    "SELECT Command\n",
    "The SELECT command is used to fetch data from a database. It can be used to retrieve specific columns, rows, or combinations of both from one or multiple tables. The SELECT command can also involve various clauses such as WHERE, ORDER BY, GROUP BY, and JOIN to filter, sort, group, and combine data.\n",
    "\n"
   ]
  },
  {
   "cell_type": "code",
   "execution_count": null,
   "id": "058adfa7-628d-4ed2-b3cc-443dce22e052",
   "metadata": {},
   "outputs": [],
   "source": [
    "#ans 5\n",
    "\n",
    "A Primary Key is a column or a set of columns in a database table that uniquely identifies each row in that table. Primary keys enforce entity integrity by ensuring that no two rows can have the same primary key value, and each row can be uniquely identified.\n",
    "\n",
    "Foreign Key\n",
    "A Foreign Key is a column or a set of columns in a database table that establishes a link between the data in two tables. The foreign key in the child table refers to the primary key or a unique key in the parent table, enforcing referential integrity between the tables."
   ]
  },
  {
   "cell_type": "code",
   "execution_count": 4,
   "id": "310ae21e-5164-4240-9d27-fc701d95de2a",
   "metadata": {},
   "outputs": [
    {
     "ename": "NameError",
     "evalue": "name 'pip_install_mysql' is not defined",
     "output_type": "error",
     "traceback": [
      "\u001b[0;31m---------------------------------------------------------------------------\u001b[0m",
      "\u001b[0;31mNameError\u001b[0m                                 Traceback (most recent call last)",
      "Cell \u001b[0;32mIn[4], line 2\u001b[0m\n\u001b[1;32m      1\u001b[0m \u001b[38;5;66;03m#ans 6\u001b[39;00m\n\u001b[0;32m----> 2\u001b[0m \u001b[43mpip_install_mysql\u001b[49m\u001b[38;5;241m-\u001b[39mconnector\u001b[38;5;241m-\u001b[39mpython\n\u001b[1;32m      4\u001b[0m \u001b[38;5;28;01mimport\u001b[39;00m \u001b[38;5;21;01mmysql\u001b[39;00m\u001b[38;5;21;01m.\u001b[39;00m\u001b[38;5;21;01mconnector\u001b[39;00m\n\u001b[1;32m      6\u001b[0m \u001b[38;5;66;03m# Establish a connection to the database\u001b[39;00m\n",
      "\u001b[0;31mNameError\u001b[0m: name 'pip_install_mysql' is not defined"
     ]
    }
   ],
   "source": [
    "#ans 6\n",
    "pip_install_mysql-connector-python\n",
    "\n",
    "import mysql.connector\n",
    "\n",
    "# Establish a connection to the database\n",
    "conn = mysql.connector.connect(\n",
    "    host=\"localhost\",  # or your database host\n",
    "    user=\"your_username\",  # your database username\n",
    "    password=\"your_password\",  # your database password\n",
    "    database=\"your_database\"  # your database name\n",
    ")\n",
    "\n",
    "# Create a cursor object\n",
    "cursor = conn.cursor()\n",
    "\n",
    "# Execute a SQL query\n",
    "cursor.execute(\"SELECT * FROM employees\")\n",
    "\n",
    "# Fetch all the results\n",
    "results = cursor.fetchall()\n",
    "\n",
    "# Print the results\n",
    "for row in results:\n",
    "    print(row)\n",
    "\n",
    "# Close the cursor and the connection\n",
    "cursor.close()\n",
    "conn.close()\n"
   ]
  },
  {
   "cell_type": "code",
   "execution_count": null,
   "id": "f03b1150-7946-476c-9f60-eb805e50d740",
   "metadata": {},
   "outputs": [],
   "source": []
  }
 ],
 "metadata": {
  "kernelspec": {
   "display_name": "Python 3 (ipykernel)",
   "language": "python",
   "name": "python3"
  },
  "language_info": {
   "codemirror_mode": {
    "name": "ipython",
    "version": 3
   },
   "file_extension": ".py",
   "mimetype": "text/x-python",
   "name": "python",
   "nbconvert_exporter": "python",
   "pygments_lexer": "ipython3",
   "version": "3.10.8"
  }
 },
 "nbformat": 4,
 "nbformat_minor": 5
}
