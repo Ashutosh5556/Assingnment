{
 "cells": [
  {
   "cell_type": "code",
   "execution_count": null,
   "id": "77e609f0-e77f-47d9-a3e4-9ae77f5407b6",
   "metadata": {},
   "outputs": [],
   "source": [
    "# ans 1\n",
    "\n",
    "read_csv: Reads a comma-separated values (CSV) file into a DataFrame.\n",
    "head: Returns the first n rows of a DataFrame.\n",
    "describe: Generates descriptive statistics that summarize the central tendency, dispersion, and shape of a dataset’s distribution, excluding NaN values.\n",
    "groupby: Groups DataFrame using a mapper or by a Series of columns.\n",
    "merge: Merges DataFrame objects by performing a database-style join operation."
   ]
  },
  {
   "cell_type": "code",
   "execution_count": 1,
   "id": "59c045b4-1b0a-4994-a9e9-65b1d7f77526",
   "metadata": {},
   "outputs": [
    {
     "name": "stdout",
     "output_type": "stream",
     "text": [
      "    A   B   C\n",
      "1  10  40  70\n",
      "3  20  50  80\n",
      "5  30  60  90\n"
     ]
    }
   ],
   "source": [
    "#ans 2\n",
    "\n",
    "import pandas as pd\n",
    "\n",
    "def reindex_dataframe(df):\n",
    "    # Create a new index starting from 1 and incrementing by 2\n",
    "    new_index = range(1, 2*len(df) + 1, 2)\n",
    "    \n",
    "    # Set the new index to the DataFrame\n",
    "    df.index = new_index\n",
    "    \n",
    "    return df\n",
    "\n",
    "# Example usage\n",
    "data = {'A': [10, 20, 30], 'B': [40, 50, 60], 'C': [70, 80, 90]}\n",
    "df = pd.DataFrame(data)\n",
    "\n",
    "# Reindex the DataFrame\n",
    "reindexed_df = reindex_dataframe(df)\n",
    "print(reindexed_df)\n"
   ]
  },
  {
   "cell_type": "code",
   "execution_count": 2,
   "id": "8fea4b41-1c8f-48c3-8133-4152b26c7d68",
   "metadata": {},
   "outputs": [
    {
     "name": "stdout",
     "output_type": "stream",
     "text": [
      "Sum of the first three values in the 'Values' column: 60\n"
     ]
    }
   ],
   "source": [
    "#ans 3\n",
    "import pandas as pd\n",
    "\n",
    "def sum_first_three_values(df):\n",
    "    # Check if the 'Values' column has at least three elements\n",
    "    if len(df['Values']) < 3:\n",
    "        print(\"The 'Values' column has less than three elements.\")\n",
    "        return\n",
    "    \n",
    "    # Calculate the sum of the first three values in the 'Values' column\n",
    "    sum_values = df['Values'].iloc[:3].sum()\n",
    "    \n",
    "    # Print the sum to the console\n",
    "    print(\"Sum of the first three values in the 'Values' column:\", sum_values)\n",
    "\n",
    "# Example usage\n",
    "data = {'Values': [10, 20, 30, 40, 50]}\n",
    "df = pd.DataFrame(data)\n",
    "\n",
    "# Calculate and print the sum of the first three values\n",
    "sum_first_three_values(df)\n",
    "\n"
   ]
  },
  {
   "cell_type": "code",
   "execution_count": 3,
   "id": "220b03f0-4dec-41cf-a93c-6679d08b50cc",
   "metadata": {},
   "outputs": [],
   "source": [
    "#ans 4 \n",
    "\n",
    "import pandas as pd\n",
    "\n",
    "def add_word_count_column(df):\n",
    "    # Ensure 'Text' column is treated as a string\n",
    "    df['Word_Count'] = df['Text'].apply(lambda x: len(str(x).split()))\n",
    "    return df\n"
   ]
  },
  {
   "cell_type": "code",
   "execution_count": 4,
   "id": "c9eaa79e-782f-4dfb-bfe1-218c2d9d00dc",
   "metadata": {},
   "outputs": [
    {
     "name": "stdout",
     "output_type": "stream",
     "text": [
      "                 Text  Word_Count\n",
      "0         Hello world           2\n",
      "1     Pandas is great           3\n",
      "2  Python programming           2\n"
     ]
    }
   ],
   "source": [
    "df = pd.DataFrame({'Text': ['Hello world', 'Pandas is great', 'Python programming']})\n",
    "df = add_word_count_column(df)\n",
    "print(df)\n"
   ]
  },
  {
   "cell_type": "code",
   "execution_count": null,
   "id": "b89b2aa7-6247-4660-a6eb-47536bad120f",
   "metadata": {},
   "outputs": [],
   "source": [
    "#ans 5\n",
    "\n",
    "DataFrame.size:\n",
    "\n",
    "Definition: Returns the total number of elements in the DataFrame.\n",
    "Calculation: It is the product of the number of rows and the number of columns.\n",
    "\n",
    "DataFrame.shape:\n",
    "\n",
    "Definition: Returns a tuple representing the dimensions of the DataFrame.\n",
    "Calculation: It provides the number of rows and columns as a tuple (number_of_rows, number_of_columns)\n"
   ]
  },
  {
   "cell_type": "code",
   "execution_count": null,
   "id": "bec4544c-f19a-405b-8966-bc0707400f17",
   "metadata": {},
   "outputs": [],
   "source": [
    "#ans 6\n",
    "\n",
    "To read an Excel file into a Pandas DataFrame, you use the pandas.read_excel() function."
   ]
  },
  {
   "cell_type": "code",
   "execution_count": 5,
   "id": "cd91cb42-9383-4ae2-a284-a690342702b7",
   "metadata": {},
   "outputs": [],
   "source": [
    "#ans 7\n",
    "\n",
    "import pandas as pd\n",
    "\n",
    "def extract_username(df):\n",
    "    # Create a new column 'Username' by splitting the 'Email' column and taking the part before '@'\n",
    "    df['Username'] = df['Email'].str.split('@').str[0]\n",
    "    return df\n"
   ]
  },
  {
   "cell_type": "code",
   "execution_count": 6,
   "id": "2cc7f781-cef4-4545-bce5-34041945efc5",
   "metadata": {},
   "outputs": [
    {
     "name": "stdout",
     "output_type": "stream",
     "text": [
      "                   Email    Username\n",
      "0   john.doe@example.com    john.doe\n",
      "1  jane.smith@domain.com  jane.smith\n",
      "2    user123@website.org     user123\n"
     ]
    }
   ],
   "source": [
    "# Sample DataFrame\n",
    "df = pd.DataFrame({\n",
    "    'Email': ['john.doe@example.com', 'jane.smith@domain.com', 'user123@website.org']\n",
    "})\n",
    "\n",
    "# Apply the function\n",
    "df = extract_username(df)\n",
    "\n",
    "print(df)\n"
   ]
  },
  {
   "cell_type": "code",
   "execution_count": 7,
   "id": "f6d4161d-733e-4e23-832c-fc7557cb2e73",
   "metadata": {},
   "outputs": [],
   "source": [
    "# ans 8\n",
    "\n",
    "import pandas as pd\n",
    "\n",
    "def filter_rows(df):\n",
    "    # Apply the filtering conditions\n",
    "    filtered_df = df[(df['A'] > 5) & (df['B'] < 10)]\n",
    "    return filtered_df\n"
   ]
  },
  {
   "cell_type": "code",
   "execution_count": 8,
   "id": "90111ec0-7408-4bc4-b352-57ceb676ade6",
   "metadata": {},
   "outputs": [
    {
     "name": "stdout",
     "output_type": "stream",
     "text": [
      "   A  B  C\n",
      "1  8  2  7\n",
      "2  6  9  4\n",
      "4  9  1  2\n"
     ]
    }
   ],
   "source": [
    "# Sample DataFrame\n",
    "df = pd.DataFrame({\n",
    "    'A': [3, 8, 6, 2, 9],\n",
    "    'B': [5, 2, 9, 3, 1],\n",
    "    'C': [1, 7, 4, 5, 2]\n",
    "})\n",
    "\n",
    "# Apply the function\n",
    "filtered_df = filter_rows(df)\n",
    "\n",
    "print(filtered_df)\n"
   ]
  },
  {
   "cell_type": "code",
   "execution_count": 9,
   "id": "8d53aa98-a898-46a3-9df5-bd1d1e6c7444",
   "metadata": {},
   "outputs": [],
   "source": [
    "# ans 9\n",
    "\n",
    "import pandas as pd\n",
    "\n",
    "def calculate_statistics(df):\n",
    "    # Calculate mean, median, and standard deviation\n",
    "    mean_value = df['Values'].mean()\n",
    "    median_value = df['Values'].median()\n",
    "    std_dev = df['Values'].std()\n",
    "    \n",
    "    # Create a dictionary to hold the results\n",
    "    stats = {\n",
    "        'Mean': mean_value,\n",
    "        'Median': median_value,\n",
    "        'Standard Deviation': std_dev\n",
    "    }\n",
    "    \n",
    "    return stats\n"
   ]
  },
  {
   "cell_type": "code",
   "execution_count": 10,
   "id": "5827285f-2bae-42ea-b027-8a6d2daac48a",
   "metadata": {},
   "outputs": [],
   "source": [
    "# ans 10\n",
    "\n",
    "import pandas as pd\n",
    "\n",
    "def add_moving_average(df):\n",
    "    # Ensure the 'Date' column is in datetime format and sort by date\n",
    "    df['Date'] = pd.to_datetime(df['Date'])\n",
    "    df = df.sort_values(by='Date')\n",
    "    \n",
    "    # Calculate the 7-day moving average for the 'Sales' column\n",
    "    df['MovingAverage'] = df['Sales'].rolling(window=7, min_periods=1).mean()\n",
    "    \n",
    "    return df\n"
   ]
  },
  {
   "cell_type": "code",
   "execution_count": 11,
   "id": "e05ea0ac-cfa3-46b1-a7a2-6fd54e8ab05c",
   "metadata": {},
   "outputs": [
    {
     "name": "stdout",
     "output_type": "stream",
     "text": [
      "        Date  Sales  MovingAverage\n",
      "0 2024-07-01    100          100.0\n",
      "1 2024-07-02    200          150.0\n",
      "2 2024-07-03    300          200.0\n",
      "3 2024-07-04    400          250.0\n",
      "4 2024-07-05    500          300.0\n",
      "5 2024-07-06    600          350.0\n",
      "6 2024-07-07    700          400.0\n",
      "7 2024-07-08    800          500.0\n",
      "8 2024-07-09    900          600.0\n",
      "9 2024-07-10   1000          700.0\n"
     ]
    }
   ],
   "source": [
    "# Sample DataFrame\n",
    "df = pd.DataFrame({\n",
    "    'Date': ['2024-07-01', '2024-07-02', '2024-07-03', '2024-07-04', '2024-07-05',\n",
    "             '2024-07-06', '2024-07-07', '2024-07-08', '2024-07-09', '2024-07-10'],\n",
    "    'Sales': [100, 200, 300, 400, 500, 600, 700, 800, 900, 1000]\n",
    "})\n",
    "\n",
    "# Apply the function\n",
    "df = add_moving_average(df)\n",
    "\n",
    "print(df)\n"
   ]
  },
  {
   "cell_type": "code",
   "execution_count": 12,
   "id": "96cffd42-150b-45e4-a91f-fe45bbd91803",
   "metadata": {},
   "outputs": [],
   "source": [
    "# ans 11\n",
    "\n",
    "import pandas as pd\n",
    "\n",
    "def add_weekday_column(df):\n",
    "    # Ensure the 'Date' column is in datetime format\n",
    "    df['Date'] = pd.to_datetime(df['Date'])\n",
    "    \n",
    "    # Create the 'Weekday' column with the name of the weekday\n",
    "    df['Weekday'] = df['Date'].dt.day_name()\n",
    "    \n",
    "    return df\n"
   ]
  },
  {
   "cell_type": "code",
   "execution_count": 13,
   "id": "42cd2a8c-76f1-4223-a5fd-5cd5daa9fa7d",
   "metadata": {},
   "outputs": [
    {
     "name": "stdout",
     "output_type": "stream",
     "text": [
      "        Date    Weekday\n",
      "0 2023-01-01     Sunday\n",
      "1 2023-01-02     Monday\n",
      "2 2023-01-03    Tuesday\n",
      "3 2023-01-04  Wednesday\n",
      "4 2023-01-05   Thursday\n"
     ]
    }
   ],
   "source": [
    "# Sample DataFrame\n",
    "df = pd.DataFrame({\n",
    "    'Date': ['2023-01-01', '2023-01-02', '2023-01-03', '2023-01-04', '2023-01-05']\n",
    "})\n",
    "\n",
    "# Apply the function\n",
    "df = add_weekday_column(df)\n",
    "\n",
    "print(df)\n"
   ]
  },
  {
   "cell_type": "code",
   "execution_count": 14,
   "id": "b3093275-7cea-4963-a19e-ac698c6746c3",
   "metadata": {},
   "outputs": [],
   "source": [
    "#ans 12\n",
    "\n",
    "import pandas as pd\n",
    "\n",
    "def filter_dates(df):\n",
    "    # Ensure the 'Date' column is in datetime format\n",
    "    df['Date'] = pd.to_datetime(df['Date'])\n",
    "    \n",
    "    # Define the start and end dates\n",
    "    start_date = '2023-01-01'\n",
    "    end_date = '2023-01-31'\n",
    "    \n",
    "    # Filter the DataFrame based on the date range\n",
    "    filtered_df = df[(df['Date'] >= start_date) & (df['Date'] <= end_date)]\n",
    "    \n",
    "    return filtered_df\n"
   ]
  },
  {
   "cell_type": "code",
   "execution_count": 15,
   "id": "d86d02d6-342b-4752-a16d-1415f5c1ff5d",
   "metadata": {},
   "outputs": [
    {
     "name": "stdout",
     "output_type": "stream",
     "text": [
      "        Date\n",
      "0 2023-01-01\n",
      "1 2023-01-15\n",
      "3 2023-01-30\n",
      "4 2023-01-31\n"
     ]
    }
   ],
   "source": [
    "# Sample DataFrame\n",
    "df = pd.DataFrame({\n",
    "    'Date': ['2023-01-01', '2023-01-15', '2023-02-01', '2023-01-30', '2023-01-31']\n",
    "})\n",
    "\n",
    "# Apply the function\n",
    "filtered_df = filter_dates(df)\n",
    "\n",
    "print(filtered_df)\n"
   ]
  },
  {
   "cell_type": "code",
   "execution_count": null,
   "id": "726998cf-5ebb-4b48-bae0-fa36de08c617",
   "metadata": {},
   "outputs": [],
   "source": [
    "#ans 13\n",
    "\n",
    "import pandas as pd\n"
   ]
  }
 ],
 "metadata": {
  "kernelspec": {
   "display_name": "Python 3 (ipykernel)",
   "language": "python",
   "name": "python3"
  },
  "language_info": {
   "codemirror_mode": {
    "name": "ipython",
    "version": 3
   },
   "file_extension": ".py",
   "mimetype": "text/x-python",
   "name": "python",
   "nbconvert_exporter": "python",
   "pygments_lexer": "ipython3",
   "version": "3.10.8"
  }
 },
 "nbformat": 4,
 "nbformat_minor": 5
}
