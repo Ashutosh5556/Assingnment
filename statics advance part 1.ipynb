{
 "cells": [
  {
   "cell_type": "code",
   "execution_count": null,
   "id": "fd1103f1-5a17-4fb6-9966-71696314562f",
   "metadata": {},
   "outputs": [],
   "source": [
    "#ans 1\n",
    "\n",
    "The Probability Density Function (PDF) is a fundamental concept in probability theory and statistics that describes the likelihood of a continuous random variable taking on a particular value."
   ]
  },
  {
   "cell_type": "code",
   "execution_count": null,
   "id": "fb4f085d-fde0-4f2b-8541-f5db12c52741",
   "metadata": {},
   "outputs": [],
   "source": [
    "#ans 2\n",
    "\n",
    "Probability distributions can be broadly categorized into two main types: discrete and continuous. Each type has several specific distributions under its category."
   ]
  },
  {
   "cell_type": "code",
   "execution_count": 1,
   "id": "8ace2da3-3cc9-4a4f-ac2e-b1618d51bdc3",
   "metadata": {},
   "outputs": [
    {
     "name": "stdout",
     "output_type": "stream",
     "text": [
      "PDF at x=1.0 for mean=0.0 and std_dev=1.0: 0.24197072451914337\n"
     ]
    }
   ],
   "source": [
    "#ans 3\n",
    "\n",
    "import math\n",
    "\n",
    "def normal_pdf(x, mean, std_dev):\n",
    "    \"\"\"\n",
    "    Calculate the probability density function of a normal distribution.\n",
    "    \n",
    "    Parameters:\n",
    "    x (float): The point at which to evaluate the PDF.\n",
    "    mean (float): The mean (µ) of the normal distribution.\n",
    "    std_dev (float): The standard deviation (σ) of the normal distribution.\n",
    "    \n",
    "    Returns:\n",
    "    float: The value of the PDF at the given point.\n",
    "    \"\"\"\n",
    "    coefficient = 1 / (std_dev * math.sqrt(2 * math.pi))\n",
    "    exponent = -((x - mean) ** 2) / (2 * std_dev ** 2)\n",
    "    return coefficient * math.exp(exponent)\n",
    "\n",
    "# Example usage\n",
    "x = 1.0\n",
    "mean = 0.0\n",
    "std_dev = 1.0\n",
    "print(f\"PDF at x={x} for mean={mean} and std_dev={std_dev}: {normal_pdf(x, mean, std_dev)}\")\n"
   ]
  },
  {
   "cell_type": "code",
   "execution_count": null,
   "id": "292a8bf6-7389-4a08-806c-5daaee15e41c",
   "metadata": {},
   "outputs": [],
   "source": [
    "#ans 4\n",
    "\n",
    "The binomial distribution is a discrete probability distribution that describes the number of successes in a fixed number of independent Bernoulli trials, each with the same probability of success. The key properties of a binomial distribution are:\n",
    "\n",
    "Fixed Number of Trials (n): The experiment is repeated a fixed number of times.\n",
    "Two Possible Outcomes: Each trial has exactly two possible outcomes: success (usually denoted as 1) and failure (usually denoted as 0).\n",
    "Constant Probability (p): The probability of success is the same for each trial.\n",
    "Independence: The trials are independent; the outcome of one trial does not affect the outcome of another.\n",
    "Discrete Distribution: The binomial distribution is a discrete distribution, meaning the random variable can take on only integer values from 0 to n.\n",
    "The probability mass function (PMF) of the binomial distribution is given by:\n",
    "\n",
    "𝑃\n",
    "(\n",
    "𝑋\n",
    "=\n",
    "𝑘\n",
    ")\n",
    "=\n",
    "(\n",
    "𝑛\n",
    "𝑘\n",
    ")\n",
    "𝑝\n",
    "𝑘\n",
    "(\n",
    "1\n",
    "−\n",
    "𝑝\n",
    ")\n",
    "𝑛\n",
    "−\n",
    "𝑘\n",
    "P(X=k)=( \n",
    "k\n",
    "n\n",
    "​\n",
    " )p \n",
    "k\n",
    " (1−p) \n",
    "n−k\n",
    " \n",
    "\n",
    "where:\n",
    "\n",
    "(\n",
    "𝑛\n",
    "𝑘\n",
    ")\n",
    "( \n",
    "k\n",
    "n\n",
    "​\n",
    " ) is the binomial coefficient, representing the number of ways to choose \n",
    "𝑘\n",
    "k successes out of \n",
    "𝑛\n",
    "n trials.\n",
    "𝑝\n",
    "p is the probability of success.\n",
    "1\n",
    "−\n",
    "𝑝\n",
    "1−p is the probability of failure.\n",
    "𝑘\n",
    "k is the number of successes.\n",
    "Examples of Events Where Binomial Distribution Can Be Applied\n",
    "Quality Control in Manufacturing: Suppose a factory produces light bulbs and the probability of a bulb being defective is \n",
    "𝑝\n",
    "p. If a quality control inspector selects 20 bulbs at random (n = 20) to check for defects, the number of defective bulbs follows a binomial distribution. Here, each bulb inspection is a Bernoulli trial with success being a defective bulb.\n",
    "\n"
   ]
  },
  {
   "cell_type": "code",
   "execution_count": 2,
   "id": "a48296b4-8c0a-40e5-be9e-5c892ac43e51",
   "metadata": {},
   "outputs": [
    {
     "data": {
      "image/png": "[encoded data removed]",
      "text/plain": [
       "<Figure size 640x480 with 1 Axes>"
      ]
     },
     "metadata": {},
     "output_type": "display_data"
    }
   ],
   "source": [
    "#ans 5\n",
    "\n",
    "import numpy as np\n",
    "import matplotlib.pyplot as plt\n",
    "\n",
    "# Parameters\n",
    "n = 10  # Number of trials\n",
    "p = 0.4  # Probability of success\n",
    "sample_size = 1000  # Size of the sample\n",
    "\n",
    "# Generate random sample from binomial distribution\n",
    "sample = np.random.binomial(n, p, sample_size)\n",
    "\n",
    "# Plot histogram of the sample\n",
    "plt.hist(sample, bins=range(n+2), edgecolor='black', align='left')\n",
    "plt.title('Histogram of Binomial Distribution (n=10, p=0.4)')\n",
    "plt.xlabel('Number of Successes')\n",
    "plt.ylabel('Frequency')\n",
    "plt.xticks(range(n+1))\n",
    "plt.show()\n"
   ]
  },
  {
   "cell_type": "code",
   "execution_count": 3,
   "id": "27da01ee-2dd3-40ab-b0f2-2076101ac529",
   "metadata": {},
   "outputs": [
    {
     "name": "stdout",
     "output_type": "stream",
     "text": [
      "CDF at k=5 for λ=3.0: 0.9160820579686966\n"
     ]
    }
   ],
   "source": [
    "# ans 6\n",
    "\n",
    "import math\n",
    "\n",
    "def poisson_cdf(k, lam):\n",
    "    \"\"\"\n",
    "    Calculate the cumulative distribution function of a Poisson distribution.\n",
    "\n",
    "    Parameters:\n",
    "    k (int): The point at which to evaluate the CDF.\n",
    "    lam (float): The mean (λ) of the Poisson distribution.\n",
    "\n",
    "    Returns:\n",
    "    float: The value of the CDF at the given point.\n",
    "    \"\"\"\n",
    "    cdf = 0.0\n",
    "    for i in range(0, k + 1):\n",
    "        cdf += (math.exp(-lam) * lam**i) / math.factorial(i)\n",
    "    return cdf\n",
    "\n",
    "# Example usage\n",
    "k = 5\n",
    "lam = 3.0\n",
    "print(f\"CDF at k={k} for λ={lam}: {poisson_cdf(k, lam)}\")\n"
   ]
  },
  {
   "cell_type": "code",
   "execution_count": null,
   "id": "f94733e8-3d4b-455d-b3bb-ad8195973cb2",
   "metadata": {},
   "outputs": [],
   "source": [
    "#ans 7 \n",
    "\n",
    "Fixed Number of Trials:\n",
    "\n",
    "Binomial: There is a fixed number of trials \n",
    "𝑛\n",
    "n.\n",
    "Poisson: There is no fixed number of trials; it models the number of events in a continuous interval.\n",
    "Probability of Success:\n",
    "\n",
    "Binomial: The probability of success \n",
    "𝑝\n",
    "p is constant for each trial.\n",
    "Poisson: The average rate of occurrence \n",
    "𝜆\n",
    "λ is constant, but there is no fixed probability of success.\n",
    "Application Context:\n",
    "\n",
    "Binomial: Suitable for scenarios with a fixed number of discrete trials.\n",
    "Poisson: Suitable for scenarios with a potentially unlimited number of events occurring in a fixed interval.\n",
    "Typical Examples:\n",
    "\n",
    "Binomial: Number of defective items in a batch of 100 items, number of heads in 10 coin flips.\n",
    "Poisson: Number of cars passing through a checkpoint in an hour, number of phone calls received by a call center in a day."
   ]
  },
  {
   "cell_type": "code",
   "execution_count": 4,
   "id": "a2b7e8d1-c5d0-4b21-b689-a842ae3fb4fe",
   "metadata": {},
   "outputs": [
    {
     "name": "stdout",
     "output_type": "stream",
     "text": [
      "Sample Mean: 4.957\n",
      "Sample Variance: 5.327151\n"
     ]
    }
   ],
   "source": [
    "#ans 8\n",
    "\n",
    "import numpy as np\n",
    "\n",
    "# Parameters\n",
    "lam = 5  # Mean of the Poisson distribution\n",
    "sample_size = 1000  # Size of the sample\n",
    "\n",
    "# Generate random sample from Poisson distribution\n",
    "sample = np.random.poisson(lam, sample_size)\n",
    "\n",
    "# Calculate sample mean and variance\n",
    "sample_mean = np.mean(sample)\n",
    "sample_variance = np.var(sample)\n",
    "\n",
    "print(f\"Sample Mean: {sample_mean}\")\n",
    "print(f\"Sample Variance: {sample_variance}\")\n"
   ]
  },
  {
   "cell_type": "code",
   "execution_count": null,
   "id": "fb617896-503e-430a-a8d4-e516b162d48b",
   "metadata": {},
   "outputs": [],
   "source": [
    "#ans 9\n",
    "\n",
    "Binomial Distribution:\n",
    "\n",
    "Mean: \n",
    "𝑛\n",
    "𝑝\n",
    "np\n",
    "Variance: \n",
    "𝑛\n",
    "𝑝\n",
    "(\n",
    "1\n",
    "−\n",
    "𝑝\n",
    ")\n",
    "np(1−p)\n",
    "Poisson Distribution:\n",
    "\n",
    "Mean: \n",
    "𝜆\n",
    "λ\n",
    "Variance: \n",
    "𝜆\n",
    "λ"
   ]
  },
  {
   "cell_type": "code",
   "execution_count": null,
   "id": "438789ff-c0dc-47df-88e5-3cbdf0eaa256",
   "metadata": {},
   "outputs": [],
   "source": [
    "#ans 10\n",
    "\n",
    "\n",
    "In a normal distribution, the data is symmetrically distributed around the mean. The least frequent data points appear in the tails of the distribution, which are farthest from the mean. Specifically, these points are located at the extreme ends of the distribution, both on the left and right sides.\n",
    "\n",
    "Key Points:\n",
    "Mean Position: In a normal distribution, the mean is the central point where the data is most densely packed. The distribution is symmetric around the mean.\n",
    "Least Frequent Data: The least frequent data points are those that are farthest away from the mean. These points are located in the tails of the distribution.\n",
    "Standard Deviation: The standard deviation measures the spread of the data around the mean. In a normal distribution, about 68% of the data falls within one standard deviation of the mean, about 95% falls within two standard deviations, and about 99.7% falls within three standard deviations.\n",
    "Visual Representation:\n",
    "In the normal distribution curve (bell curve):\n",
    "\n",
    "The peak of the curve represents the mean, where the frequency of data points is the highest.\n",
    "As you move away from the mean in either direction (towards the tails), the frequency of data points decreases.\n",
    "The tails of the curve (the far left and far right ends) represent the regions where the least frequent data points appear."
   ]
  }
 ],
 "metadata": {
  "kernelspec": {
   "display_name": "Python 3 (ipykernel)",
   "language": "python",
   "name": "python3"
  },
  "language_info": {
   "codemirror_mode": {
    "name": "ipython",
    "version": 3
   },
   "file_extension": ".py",
   "mimetype": "text/x-python",
   "name": "python",
   "nbconvert_exporter": "python",
   "pygments_lexer": "ipython3",
   "version": "3.10.8"
  }
 },
 "nbformat": 4,
 "nbformat_minor": 5
}
