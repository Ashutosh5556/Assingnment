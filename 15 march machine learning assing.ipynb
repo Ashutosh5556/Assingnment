{
 "cells": [
  {
   "cell_type": "code",
   "execution_count": 1,
   "id": "62b460e8-7a77-4269-b500-52c6e8098ce8",
   "metadata": {},
   "outputs": [
    {
     "ename": "SyntaxError",
     "evalue": "unmatched ')' (1213856069.py, line 2)",
     "output_type": "error",
     "traceback": [
      "\u001b[0;36m  Cell \u001b[0;32mIn[1], line 2\u001b[0;36m\u001b[0m\n\u001b[0;31m    a) Artificial Intelligence (AI):\u001b[0m\n\u001b[0m     ^\u001b[0m\n\u001b[0;31mSyntaxError\u001b[0m\u001b[0;31m:\u001b[0m unmatched ')'\n"
     ]
    }
   ],
   "source": [
    "#ans 1\n",
    "a) Artificial Intelligence (AI):\n",
    "Artificial Intelligence is the simulation of human intelligence in machines designed to think and act like humans. AI enables machines to perform tasks that typically require human intelligence, such as problem-solving, speech recognition, and decision-making.\n",
    "\n",
    "Example:\n",
    "\n",
    "Virtual assistants like Siri or Alexa use AI to understand and respond to voice commands.\n",
    "b) Machine Learning (ML):\n",
    "Machine Learning is a subset of AI that involves training algorithms on data to make predictions or decisions without being explicitly programmed. ML focuses on the development of models that can learn from and make predictions based on data.\n",
    "\n",
    "Example:\n",
    "\n",
    "Email spam filters use ML to learn from past data and classify new emails as spam or not.\n",
    "c) Deep Learning (DL):\n",
    "Deep Learning is a subset of ML that uses neural networks with many layers (hence \"deep\") to model complex patterns in large datasets. It is particularly effective in tasks such as image and speech recognition.\n",
    "\n",
    "Example:\n",
    "\n",
    "Autonomous vehicles use DL for object detection, enabling them to recognize pedestrians, vehicles, and traffic signs."
   ]
  },
  {
   "cell_type": "code",
   "execution_count": null,
   "id": "1c5524d3-3dbe-43c6-8459-f7bb3281be6f",
   "metadata": {},
   "outputs": [],
   "source": [
    "#ans 2\n",
    "\n",
    "Memory updated\n",
    "Q1. Define the Following with Examples\n",
    "a) Artificial Intelligence (AI):\n",
    "Artificial Intelligence is the simulation of human intelligence in machines designed to think and act like humans. AI enables machines to perform tasks that typically require human intelligence, such as problem-solving, speech recognition, and decision-making.\n",
    "\n",
    "Example:\n",
    "\n",
    "Virtual assistants like Siri or Alexa use AI to understand and respond to voice commands.\n",
    "b) Machine Learning (ML):\n",
    "Machine Learning is a subset of AI that involves training algorithms on data to make predictions or decisions without being explicitly programmed. ML focuses on the development of models that can learn from and make predictions based on data.\n",
    "\n",
    "Example:\n",
    "\n",
    "Email spam filters use ML to learn from past data and classify new emails as spam or not.\n",
    "c) Deep Learning (DL):\n",
    "Deep Learning is a subset of ML that uses neural networks with many layers (hence \"deep\") to model complex patterns in large datasets. It is particularly effective in tasks such as image and speech recognition.\n",
    "\n",
    "Example:\n",
    "\n",
    "Autonomous vehicles use DL for object detection, enabling them to recognize pedestrians, vehicles, and traffic signs.\n",
    "Q2. What is Supervised Learning? Examples of Supervised Learning\n",
    "Supervised Learning is a type of machine learning where the model is trained on a labeled dataset, meaning that each training example is paired with an output label. The model learns to map inputs to outputs and can make predictions on new, unseen data.\n",
    "\n",
    "Examples of Supervised Learning:\n",
    "\n",
    "Regression: Predicting house prices based on features like size, location, and number of bedrooms.\n",
    "Classification: Classifying emails as spam or not spam"
   ]
  },
  {
   "cell_type": "markdown",
   "id": "f5473e6e-0894-45d0-a83b-6332134a84fb",
   "metadata": {},
   "source": [
    "#ans 3\n",
    "Unsupervised Learning is a type of machine learning where the model is trained on data without labeled responses. The goal is to identify underlying patterns, groupings, or structures in the data.\n",
    "\n",
    "Examples of Unsupervised Learning:\n",
    "\n",
    "Clustering: Grouping customers based on purchasing behavior.\n",
    "Dimensionality Reduction: Reducing the number of variables in a dataset while retaining essential information."
   ]
  },
  {
   "cell_type": "code",
   "execution_count": null,
   "id": "dd4cc890-4de3-4ee6-bdc6-f96dee3b5fd6",
   "metadata": {},
   "outputs": [],
   "source": [
    "#ans 4\n",
    "Artificial Intelligence (AI): A broad field aiming to create systems that can perform tasks requiring human intelligence.\n",
    "Machine Learning (ML): A subset of AI focusing on developing models that learn from data.\n",
    "Deep Learning (DL): A subset of ML that uses neural networks with many layers to learn from vast amounts of data.\n",
    "Data Science (DS): An interdisciplinary field that uses statistical methods, algorithms, and systems to extract knowledge and insights from data."
   ]
  },
  {
   "cell_type": "code",
   "execution_count": null,
   "id": "dfe21eb0-15ed-4946-a291-039b82a83b25",
   "metadata": {},
   "outputs": [],
   "source": [
    "#ans 5\n",
    "Supervised Learning: Uses labeled data to train the model, focusing on predicting an output from input data.\n",
    "Unsupervised Learning: Uses unlabeled data to find patterns or structures, with no specific output to predict.\n",
    "Semi-Supervised Learning: A mix of supervised and unsupervised learning, where the model is trained on a small amount of labeled data and a large amount of unlabeled data"
   ]
  },
  {
   "cell_type": "code",
   "execution_count": null,
   "id": "abca5820-84e6-4b79-b654-b0ec5004aa66",
   "metadata": {},
   "outputs": [],
   "source": [
    "#ans 6\n",
    "Train Split: The portion of the dataset used to train the model. The model learns from this data.\n",
    "Test Split: The portion of the dataset used to evaluate the model's performance. It provides an unbiased estimate of the model’s accuracy.\n",
    "Validation Split: Sometimes used as a separate set to tune hyperparameters and prevent overfitting."
   ]
  },
  {
   "cell_type": "code",
   "execution_count": null,
   "id": "74ea067e-02b5-4e9f-aee9-c25af54eed52",
   "metadata": {},
   "outputs": [],
   "source": [
    "#ans 7\n",
    "Unsupervised learning can be used in anomaly detection by modeling the normal behavior of the data and identifying deviations from it. For instance, clustering can group normal data points, and outliers can be flagged as anomalies."
   ]
  },
  {
   "cell_type": "code",
   "execution_count": null,
   "id": "c33405b7-0245-489f-a17a-8fa361fe3a9f",
   "metadata": {},
   "outputs": [],
   "source": [
    "#ans 8\n",
    "Supervised Learning Algorithms:\n",
    "\n",
    "Linear Regression\n",
    "Support Vector Machines (SVM)\n",
    "Decision Trees\n",
    "Random Forests\n",
    "k-Nearest Neighbors (k-NN)\n",
    "Unsupervised Learning Algorithms:\n",
    "\n",
    "k-Means Clustering\n",
    "Principal Component Analysis (PCA)\n",
    "Hierarchical Clustering\n",
    "Autoencoders\n",
    "DBSCAN (Density-Based Spatial Clustering of Applications with Noise)"
   ]
  }
 ],
 "metadata": {
  "kernelspec": {
   "display_name": "Python 3 (ipykernel)",
   "language": "python",
   "name": "python3"
  },
  "language_info": {
   "codemirror_mode": {
    "name": "ipython",
    "version": 3
   },
   "file_extension": ".py",
   "mimetype": "text/x-python",
   "name": "python",
   "nbconvert_exporter": "python",
   "pygments_lexer": "ipython3",
   "version": "3.10.8"
  }
 },
 "nbformat": 4,
 "nbformat_minor": 5
}
