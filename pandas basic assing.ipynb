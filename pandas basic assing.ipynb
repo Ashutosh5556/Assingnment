{
 "cells": [
  {
   "cell_type": "code",
   "execution_count": 1,
   "id": "5f649f78-ab32-4f5e-ae66-5c0b30436cd3",
   "metadata": {},
   "outputs": [
    {
     "ename": "SyntaxError",
     "evalue": "invalid syntax (241125636.py, line 3)",
     "output_type": "error",
     "traceback": [
      "\u001b[0;36m  Cell \u001b[0;32mIn[1], line 3\u001b[0;36m\u001b[0m\n\u001b[0;31m    0     4\u001b[0m\n\u001b[0m          ^\u001b[0m\n\u001b[0;31mSyntaxError\u001b[0m\u001b[0;31m:\u001b[0m invalid syntax\n"
     ]
    }
   ],
   "source": [
    "# ans 1\n",
    "\n",
    "0     4\n",
    "1     8\n",
    "2    15\n",
    "3    16\n",
    "4    23\n",
    "5    42\n",
    "dtype: int64\n",
    "\n"
   ]
  },
  {
   "cell_type": "code",
   "execution_count": null,
   "id": "84162dec-61bf-408d-82e5-13fb11261b84",
   "metadata": {},
   "outputs": [],
   "source": [
    "#ans 2 \n",
    "\n",
    "0     5\n",
    "1    10\n",
    "2    15\n",
    "3    20\n",
    "4    25\n",
    "5    30\n",
    "6    35\n",
    "7    40\n",
    "8    45\n",
    "9    50\n",
    "dtype: int64\n",
    "``` &#8203;:citation[oaicite:0]{index=0}&#8203;\n"
   ]
  },
  {
   "cell_type": "code",
   "execution_count": 2,
   "id": "15a10d59-91d1-4c3f-951b-b78ab7149df3",
   "metadata": {},
   "outputs": [
    {
     "name": "stdout",
     "output_type": "stream",
     "text": [
      "     Name  Age  Gender\n",
      "0   Alice   25  Female\n",
      "1     Bob   30    Male\n",
      "2  Claire   27  Female\n"
     ]
    }
   ],
   "source": [
    "#ans 3\n",
    "\n",
    "import pandas as pd\n",
    "\n",
    "# Creating the data for the DataFrame\n",
    "data = {\n",
    "    'Name': ['Alice', 'Bob', 'Claire'],\n",
    "    'Age': [25, 30, 27],\n",
    "    'Gender': ['Female', 'Male', 'Female']\n",
    "}\n",
    "\n",
    "# Creating the Pandas DataFrame\n",
    "df = pd.DataFrame(data)\n",
    "\n",
    "# Printing the DataFrame\n",
    "print(df)\n"
   ]
  },
  {
   "cell_type": "code",
   "execution_count": null,
   "id": "1a46642c-4a3c-4c87-a24b-6151c9f65e64",
   "metadata": {},
   "outputs": [],
   "source": [
    "#ans 4\n",
    "\n",
    "A DataFrame in pandas is a two-dimensional, size-mutable, and potentially heterogeneous tabular data structure with labeled axes (rows and columns). It is similar to a table in a database or an Excel spreadsheet. Each column in a DataFrame can be of a different data type (e.g., integer, float, string, etc.).\n",
    "\n",
    "Dimensionality:\n",
    "\n",
    "Series is one-dimensional.\n",
    "DataFrame is two-dimensional.\n",
    "Structure:\n",
    "\n",
    "Series has a single array of data and an associated array of data labels (index).\n",
    "DataFrame consists of multiple Series objects that share the same index.\n",
    "Use Case:\n",
    "\n",
    "Series is used for a single column of data.\n",
    "DataFrame is used for tabular data with multiple columns.\n",
    "\n"
   ]
  },
  {
   "cell_type": "code",
   "execution_count": null,
   "id": "794b72ed-faeb-4395-bbed-b7e6aceb6025",
   "metadata": {},
   "outputs": [],
   "source": [
    "#ans 5\n",
    "\n",
    "Pandas provides a variety of functions to manipulate data in a DataFrame. Some of the most commonly used functions include:\n",
    "\n",
    "head() and tail(): View the first or last n rows of the DataFrame.\n",
    "describe(): Generate descriptive statistics of the DataFrame.\n",
    "info(): Print a concise summary of the DataFrame.\n",
    "sort_values(): Sort the DataFrame by the values of one or more columns.\n",
    "groupby(): Group the DataFrame using a mapper or by a Series of columns.\n",
    "apply(): Apply a function along an axis of the DataFrame.\n",
    "drop(): Drop specified labels from rows or columns.\n",
    "loc[] and iloc[]: Access a group of rows and columns by labels or by integer position.\n",
    "merge(): Merge DataFrame objects by performing a database-style join operation.\n",
    "pivot_table(): Create a spreadsheet-style pivot table as a DataFrame.\n",
    "\n",
    "\n",
    "\n",
    "\n",
    "Example \n",
    "\n",
    "import pandas as pd\n",
    "\n",
    "# Creating the DataFrame\n",
    "data = {\n",
    "    'Region': ['North', 'South', 'East', 'West', 'North', 'South', 'East', 'West'],\n",
    "    'Sales': [150, 200, 300, 400, 120, 220, 330, 420],\n",
    "    'Rep': ['Alice', 'Bob', 'Charlie', 'David', 'Eve', 'Frank', 'Grace', 'Hannah']\n",
    "}\n",
    "\n",
    "df = pd.DataFrame(data)\n",
    "\n",
    "# Grouping by 'Region' and calculating the mean sales for each region\n",
    "average_sales = df.groupby('Region')['Sales'].mean()\n",
    "\n",
    "print(\"Average Sales by Region:\")\n",
    "print(average_sales)\n"
   ]
  },
  {
   "cell_type": "code",
   "execution_count": null,
   "id": "df9af592-59c5-4c31-8c5a-256a280fe18c",
   "metadata": {},
   "outputs": [],
   "source": [
    "#ans 6\n",
    "\n",
    "In pandas, both Series and DataFrame are mutable, meaning you can change their values after they are created. However, the Panel object is not mutable. Here’s a brief explanation:\n",
    "\n",
    "Series:\n",
    "A one-dimensional array-like object.\n",
    "Mutable: You can change values in a Series after it is created.\n",
    "DataFrame:\n",
    "A two-dimensional, size-mutable, and potentially heterogeneous tabular data structure.\n",
    "Mutable: You can change values, add or drop columns and rows in a DataFrame after it is created.\n",
    "Panel:\n",
    "A three-dimensional container of data.\n",
    "Deprecated in recent versions of pandas and is not commonly used anymore. In older versions where it existed, it was mutable, but since it is deprecated, it is generally not recommended to use it."
   ]
  },
  {
   "cell_type": "code",
   "execution_count": 3,
   "id": "8b46ff4e-050b-4ec0-ae20-564e68c801d4",
   "metadata": {},
   "outputs": [
    {
     "name": "stdout",
     "output_type": "stream",
     "text": [
      "     Name  Age  Gender\n",
      "0   Alice   25  Female\n",
      "1     Bob   30    Male\n",
      "2  Claire   27  Female\n"
     ]
    }
   ],
   "source": [
    "#ans 7\n",
    "\n",
    "import pandas as pd\n",
    "\n",
    "# Creating the Series\n",
    "names = pd.Series(['Alice', 'Bob', 'Claire'])\n",
    "ages = pd.Series([25, 30, 27])\n",
    "genders = pd.Series(['Female', 'Male', 'Female'])\n",
    "\n",
    "# Creating a DataFrame using the Series\n",
    "data = {\n",
    "    'Name': names,\n",
    "    'Age': ages,\n",
    "    'Gender': genders\n",
    "}\n",
    "df = pd.DataFrame(data)\n",
    "\n",
    "# Printing the DataFrame\n",
    "print(df)\n"
   ]
  },
  {
   "cell_type": "code",
   "execution_count": null,
   "id": "e5e8ae72-e642-4e99-81c2-aa79f465efc9",
   "metadata": {},
   "outputs": [],
   "source": []
  }
 ],
 "metadata": {
  "kernelspec": {
   "display_name": "Python 3 (ipykernel)",
   "language": "python",
   "name": "python3"
  },
  "language_info": {
   "codemirror_mode": {
    "name": "ipython",
    "version": 3
   },
   "file_extension": ".py",
   "mimetype": "text/x-python",
   "name": "python",
   "nbconvert_exporter": "python",
   "pygments_lexer": "ipython3",
   "version": "3.10.8"
  }
 },
 "nbformat": 4,
 "nbformat_minor": 5
}
