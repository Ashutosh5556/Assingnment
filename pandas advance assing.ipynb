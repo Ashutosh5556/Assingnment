{
 "cells": [
  {
   "cell_type": "code",
   "execution_count": 1,
   "id": "8ff46dd2-c2b4-445a-b63c-bb6db1f32432",
   "metadata": {},
   "outputs": [
    {
     "name": "stdout",
     "output_type": "stream",
     "text": [
      "course_name    Machine Learning\n",
      "duration                      3\n",
      "Name: 1, dtype: object\n"
     ]
    }
   ],
   "source": [
    "#ans 1\n",
    "\n",
    "import pandas as pd\n",
    "\n",
    "course_name = ['Data Science', 'Machine Learning', 'Big Data', 'Data Engineer']\n",
    "duration = [2, 3, 6, 4]\n",
    "df = pd.DataFrame(data={'course_name': course_name, 'duration': duration})\n",
    "\n",
    "# Print the data present in the second row\n",
    "second_row = df.iloc[1]\n",
    "print(second_row)\n"
   ]
  },
  {
   "cell_type": "code",
   "execution_count": null,
   "id": "e222438a-6ea2-4642-8ce8-f9d5fd3fb35c",
   "metadata": {},
   "outputs": [],
   "source": [
    "#ans 2\n",
    "\n",
    "iloc: Stands for \"integer-location based indexing\". It is used for selecting rows and columns by their integer positions (i.e., their index numbers). The indices start at 0, so the first row is accessed with iloc[0], the second with iloc[1], and so on.\n",
    "\n",
    "loc: Stands for \"label-location based indexing\". It is used for selecting rows and columns by their labels (i.e., the index labels or column names). You can use labels to access rows and columns."
   ]
  },
  {
   "cell_type": "code",
   "execution_count": 2,
   "id": "6774f6ec-ae21-4150-afd6-91243342368a",
   "metadata": {},
   "outputs": [
    {
     "name": "stdout",
     "output_type": "stream",
     "text": [
      "new_df.loc[2]:\n",
      "course_name    Big Data\n",
      "duration              6\n",
      "Name: 2, dtype: object\n",
      "\n",
      "new_df.iloc[2]:\n",
      "course_name    Machine Learning\n",
      "duration                      3\n",
      "Name: 1, dtype: object\n"
     ]
    }
   ],
   "source": [
    "#ans 3\n",
    "\n",
    "import pandas as pd\n",
    "\n",
    "course_name = ['Data Science', 'Machine Learning', 'Big Data', 'Data Engineer']\n",
    "duration = [2, 3, 6, 4]\n",
    "df = pd.DataFrame(data={'course_name': course_name, 'duration': duration})\n",
    "\n",
    "# Reindex the dataframe\n",
    "reindex = [3, 0, 1, 2]\n",
    "new_df = df.reindex(reindex)\n",
    "\n",
    "# Output for new_df.loc[2]\n",
    "loc_output = new_df.loc[2]\n",
    "print(\"new_df.loc[2]:\")\n",
    "print(loc_output)\n",
    "\n",
    "# Output for new_df.iloc[2]\n",
    "iloc_output = new_df.iloc[2]\n",
    "print(\"\\nnew_df.iloc[2]:\")\n",
    "print(iloc_output)\n"
   ]
  },
  {
   "cell_type": "code",
   "execution_count": 3,
   "id": "46db53e6-b897-405c-9552-c72871302336",
   "metadata": {},
   "outputs": [
    {
     "name": "stdout",
     "output_type": "stream",
     "text": [
      "Mean of each column:\n",
      "column_1    0.535691\n",
      "column_2    0.485405\n",
      "column_3    0.251359\n",
      "column_4    0.442973\n",
      "column_5    0.513213\n",
      "column_6    0.486141\n",
      "dtype: float64\n",
      "\n",
      "Standard deviation of column 'column_2':\n",
      "0.39716099441617403\n"
     ]
    }
   ],
   "source": [
    "#ans 4\n",
    "\n",
    "import pandas as pd\n",
    "import numpy as np\n",
    "\n",
    "# Creating the dataframe\n",
    "columns = ['column_1', 'column_2', 'column_3', 'column_4', 'column_5', 'column_6']\n",
    "indices = [1, 2, 3, 4, 5, 6]\n",
    "df1 = pd.DataFrame(np.random.rand(6, 6), columns=columns, index=indices)\n",
    "\n",
    "# (i) Mean of each column\n",
    "mean_values = df1.mean()\n",
    "print(\"Mean of each column:\")\n",
    "print(mean_values)\n",
    "\n",
    "# (ii) Standard deviation of column 'column_2'\n",
    "std_column_2 = df1['column_2'].std()\n",
    "print(\"\\nStandard deviation of column 'column_2':\")\n",
    "print(std_column_2)\n"
   ]
  },
  {
   "cell_type": "code",
   "execution_count": 1,
   "id": "9bd7049b-15d4-4392-b644-b30df72a59e0",
   "metadata": {},
   "outputs": [
    {
     "name": "stdout",
     "output_type": "stream",
     "text": [
      "July 2024\n"
     ]
    }
   ],
   "source": [
    "#ans 7\n",
    "\n",
    "import pandas as pd\n",
    "from datetime import datetime\n",
    "\n",
    "# Get the current date and time\n",
    "current_date = pd.to_datetime(datetime.now())\n",
    "\n",
    "# Extract the current month and year\n",
    "current_month_year = current_date.strftime(\"%B %Y\")\n",
    "\n",
    "print(current_month_year)\n"
   ]
  },
  {
   "cell_type": "code",
   "execution_count": null,
   "id": "68cb763a-d24b-4ec2-b6c4-abeda9c64fe1",
   "metadata": {},
   "outputs": [],
   "source": [
    "#ans 6\n",
    "\n",
    "In pandas, a \"window function\" is used for performing operations on data that is organized in a sliding window or a rolling window fashion. These functions are typically used for smoothing, aggregating, or transforming time series data.\n",
    "\n",
    "Here are some common types of window functions in pandas:\n",
    "\n",
    "Rolling Window Functions\n",
    "Expanding Window Functions\n",
    "Exponential Moving Window Functions\n",
    "GroupBy Window Functions"
   ]
  },
  {
   "cell_type": "code",
   "execution_count": 2,
   "id": "f78289ed-3034-44ac-842a-f32a64d496b8",
   "metadata": {},
   "outputs": [
    {
     "name": "stdin",
     "output_type": "stream",
     "text": [
      "Enter the first date (YYYY-MM-DD):  2003-07-08\n",
      "Enter the second date (YYYY-MM-DD):  2003-01-24\n"
     ]
    },
    {
     "name": "stdout",
     "output_type": "stream",
     "text": [
      "Difference: -165 days, 0 hours, and 0 minutes\n"
     ]
    }
   ],
   "source": [
    "#ans 8\n",
    "\n",
    "import pandas as pd\n",
    "\n",
    "# Function to calculate the difference between two dates\n",
    "def calculate_date_difference(date1, date2):\n",
    "    # Convert the input strings to pandas datetime objects\n",
    "    date1 = pd.to_datetime(date1)\n",
    "    date2 = pd.to_datetime(date2)\n",
    "    \n",
    "    # Calculate the difference\n",
    "    delta = date2 - date1\n",
    "    \n",
    "    # Extract days, hours, and minutes from the timedelta object\n",
    "    days = delta.days\n",
    "    hours, remainder = divmod(delta.seconds, 3600)\n",
    "    minutes, _ = divmod(remainder, 60)\n",
    "    \n",
    "    return days, hours, minutes\n",
    "\n",
    "# Get dates from the user\n",
    "date1 = input(\"Enter the first date (YYYY-MM-DD): \")\n",
    "date2 = input(\"Enter the second date (YYYY-MM-DD): \")\n",
    "\n",
    "# Calculate the difference\n",
    "days, hours, minutes = calculate_date_difference(date1, date2)\n",
    "\n",
    "# Display the result\n",
    "print(f\"Difference: {days} days, {hours} hours, and {minutes} minutes\")\n"
   ]
  },
  {
   "cell_type": "code",
   "execution_count": null,
   "id": "60c69445-dc60-4b36-8491-a4d9c43403c2",
   "metadata": {},
   "outputs": [],
   "source": [
    "#ans 9\n",
    "\n",
    "import pandas as pd\n",
    "\n",
    "def convert_to_categorical_and_sort(file_path, column_name, category_order):\n",
    "    # Read the CSV file\n",
    "    df = pd.read_csv(file_path)\n",
    "    \n",
    "    # Check if the specified column exists in the DataFrame\n",
    "    if column_name not in df.columns:\n",
    "        print(f\"Error: Column '{column_name}' does not exist in the CSV file.\")\n",
    "        return\n",
    "    \n",
    "    # Convert the specified column to a categorical data type with the given category order\n",
    "    df[column_name] = pd.Categorical(df[column_name], categories=category_order, ordered=True)\n",
    "    \n",
    "    # Sort the DataFrame based on the specified column\n",
    "    sorted_df = df.sort_values(by=column_name)\n",
    "    \n",
    "    return sorted_df\n",
    "\n",
    "# Get user inputs\n",
    "file_path = input(\"Enter the CSV file path: \")\n",
    "column_name = input(\"Enter the column name to convert: \")\n",
    "category_order = input(\"Enter the category order (comma-separated): \").split(',')\n",
    "\n",
    "# Convert the column and sort the data\n",
    "sorted_df = convert_to_categorical_and_sort(file_path, column_name, category_order)\n",
    "\n",
    "# Display the sorted data\n",
    "if sorted_df is not None:\n",
    "    print(\"\\nSorted Data:\")\n",
    "    print(sorted_df)\n"
   ]
  },
  {
   "cell_type": "code",
   "execution_count": null,
   "id": "84645da1-5ff8-4b15-b95f-86e4a9559225",
   "metadata": {},
   "outputs": [],
   "source": [
    "#ans 10\n",
    "\n",
    "import pandas as pd\n",
    "import matplotlib.pyplot as plt\n",
    "\n",
    "def plot_stacked_bar_chart(file_path):\n",
    "    # Read the CSV file\n",
    "    df = pd.read_csv(file_path)\n",
    "    \n",
    "    # Check the first few rows to understand the data structure\n",
    "    print(\"Data Preview:\")\n",
    "    print(df.head())\n",
    "    \n",
    "    # Assuming the CSV has columns: 'Date', 'Product_Category', 'Sales'\n",
    "    if 'Date' not in df.columns or 'Product_Category' not in df.columns or 'Sales' not in df.columns:\n",
    "        print(\"Error: The CSV file must contain 'Date', 'Product_Category', and 'Sales' columns.\")\n",
    "        return\n",
    "    \n",
    "    # Convert 'Date' column to datetime\n",
    "    df['Date'] = pd.to_datetime(df['Date'])\n",
    "    \n",
    "    # Pivot the data to get 'Date' as index and 'Product_Category' as columns\n",
    "    pivot_df = df.pivot_table(index='Date', columns='Product_Category', values='Sales', aggfunc='sum', fill_value=0)\n",
    "    \n",
    "    # Plot the stacked bar chart\n",
    "    pivot_df.plot(kind='bar', stacked=True, figsize=(10, 7))\n",
    "    \n",
    "    # Set chart title and labels\n",
    "    plt.title('Sales of Product Categories Over Time')\n",
    "    plt.xlabel('Date')\n",
    "    plt.ylabel('Sales')\n",
    "    plt.legend(title='Product Category')\n",
    "    plt.xticks(rotation=45)\n",
    "    \n",
    "    # Display the chart\n",
    "    plt.tight_layout()\n",
    "    plt.show()\n",
    "\n",
    "# Get the file path from the user\n",
    "file_path = input(\"Enter the CSV file path: \")\n",
    "\n",
    "# Plot the stacked bar chart\n",
    "plot_stacked_bar_chart(file_path)\n"
   ]
  },
  {
   "cell_type": "code",
   "execution_count": null,
   "id": "161fc51c-93c6-49e6-acf4-327061f5a31f",
   "metadata": {},
   "outputs": [],
   "source": [
    "# ans 11\n",
    "\n"
   ]
  }
 ],
 "metadata": {
  "kernelspec": {
   "display_name": "Python 3 (ipykernel)",
   "language": "python",
   "name": "python3"
  },
  "language_info": {
   "codemirror_mode": {
    "name": "ipython",
    "version": 3
   },
   "file_extension": ".py",
   "mimetype": "text/x-python",
   "name": "python",
   "nbconvert_exporter": "python",
   "pygments_lexer": "ipython3",
   "version": "3.10.8"
  }
 },
 "nbformat": 4,
 "nbformat_minor": 5
}
