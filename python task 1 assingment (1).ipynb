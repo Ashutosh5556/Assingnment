{
 "cells": [
  {
   "cell_type": "code",
   "execution_count": 1,
   "id": "6d24d707-3c14-4530-b48e-95f541f92bee",
   "metadata": {},
   "outputs": [
    {
     "name": "stdout",
     "output_type": "stream",
     "text": [
      "Product of all numbers in the flattened list: 0\n"
     ]
    }
   ],
   "source": [
    "#ans 1\n",
    "def flatten_and_multiply(lst):\n",
    "    flattened_list = []\n",
    "    \n",
    "    def flatten(lst):\n",
    "        for item in lst:\n",
    "            if isinstance(item, (list, tuple)):\n",
    "                flatten(item)\n",
    "            elif isinstance(item, dict):\n",
    "                for value in item.values():\n",
    "                    if isinstance(value, (list, tuple, dict)):\n",
    "                        flatten([value])\n",
    "                    else:\n",
    "                        flattened_list.append(value)\n",
    "            elif isinstance(item, (int, float)):\n",
    "                flattened_list.append(item)\n",
    "    \n",
    "    flatten(lst)\n",
    "    \n",
    "    product = 1\n",
    "    for num in flattened_list:\n",
    "        product *= num\n",
    "    \n",
    "    return product\n",
    "\n",
    "# Test the function\n",
    "list1 = [1, 2, 3, 4, [44, 55, 66, True], False, (34, 56, 78, 89, 34), {1, 2, 3, 3, 2, 1}, {1: 34, \"key2\": [55, 67, 78, 89], 4: (45, 22, 61, 34)}, [56, 'data science'], 'Machine Learning']\n",
    "result = flatten_and_multiply(list1)\n",
    "print(\"Product of all numbers in the flattened list:\", result)\n"
   ]
  },
  {
   "cell_type": "code",
   "execution_count": 3,
   "id": "c89495de-bdd5-4b9a-a7fd-34df7d9b6881",
   "metadata": {},
   "outputs": [
    {
     "name": "stdout",
     "output_type": "stream",
     "text": [
      "Original Sentence: I want to become a Data Scientist.\n",
      "Encrypted Sentence: r$dzmg$gl$yvxlnv$z$wzgz$hxrvmgrhg.\n"
     ]
    }
   ],
   "source": [
    "#ans 2\n",
    "def encrypt_message(message):\n",
    "    encryption_mapping = {\n",
    "        'a': 'z', 'b': 'y', 'c': 'x', 'd': 'w', 'e': 'v', 'f': 'u', 'g': 't', 'h': 's', 'i': 'r',\n",
    "        'j': 'q', 'k': 'p', 'l': 'o', 'm': 'n', 'n': 'm', 'o': 'l', 'p': 'k', 'q': 'j', 'r': 'i',\n",
    "        's': 'h', 't': 'g', 'u': 'f', 'v': 'e', 'w': 'd', 'x': 'c', 'y': 'b', 'z': 'a',\n",
    "        ' ': '$'  # Replace whitespace with $\n",
    "    }\n",
    "    \n",
    "    encrypted_message = ''\n",
    "    for char in message:\n",
    "        if char.lower() in encryption_mapping:\n",
    "            encrypted_message += encryption_mapping[char.lower()]\n",
    "        else:\n",
    "            encrypted_message += char\n",
    "    \n",
    "    return encrypted_message\n",
    "\n",
    "# Input sentence\n",
    "input_sentence = \"I want to become a Data Scientist.\"\n",
    "\n",
    "# Convert input sentence to lowercase and encrypt\n",
    "encrypted_sentence = encrypt_message(input_sentence.lower())\n",
    "\n",
    "print(\"Original Sentence:\", input_sentence)\n",
    "print(\"Encrypted Sentence:\", encrypted_sentence)\n"
   ]
  },
  {
   "cell_type": "code",
   "execution_count": null,
   "id": "2e6c9bc8-9729-4cce-8246-0bcb32ee1840",
   "metadata": {},
   "outputs": [],
   "source": []
  }
 ],
 "metadata": {
  "kernelspec": {
   "display_name": "Python 3 (ipykernel)",
   "language": "python",
   "name": "python3"
  },
  "language_info": {
   "codemirror_mode": {
    "name": "ipython",
    "version": 3
   },
   "file_extension": ".py",
   "mimetype": "text/x-python",
   "name": "python",
   "nbconvert_exporter": "python",
   "pygments_lexer": "ipython3",
   "version": "3.10.8"
  }
 },
 "nbformat": 4,
 "nbformat_minor": 5
}
