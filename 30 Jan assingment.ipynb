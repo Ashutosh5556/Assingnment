{
 "cells": [
  {
   "cell_type": "code",
   "execution_count": 4,
   "id": "c2088edf-b827-4479-9c7c-6e4a210d32a5",
   "metadata": {},
   "outputs": [
    {
     "name": "stdin",
     "output_type": "stream",
     "text": [
      "entre your number 60\n"
     ]
    },
    {
     "name": "stdout",
     "output_type": "stream",
     "text": [
      "C\n"
     ]
    }
   ],
   "source": [
    "#Answer 1:\n",
    "marks = int(input(\"entre your number\"))\n",
    "if marks >90 :\n",
    "    print(\"A\")\n",
    "elif marks >80 and marks <= 90:\n",
    "    print(\"B\")\n",
    "elif marks >= 60 and marks <= 80:\n",
    "    print (\"C\")\n",
    "else :\n",
    "    print(\"D\")\n",
    "     \n",
    "\n",
    "\n"
   ]
  },
  {
   "cell_type": "code",
   "execution_count": 3,
   "id": "553dd589-e7d9-490b-a11b-9d5be06bae04",
   "metadata": {},
   "outputs": [
    {
     "name": "stdin",
     "output_type": "stream",
     "text": [
      "Cost Price in Rs 10000\n"
     ]
    },
    {
     "name": "stdout",
     "output_type": "stream",
     "text": [
      "5%\n"
     ]
    }
   ],
   "source": [
    "#Answer 2:\n",
    "Tax = int(input(\"Cost Price in Rs\"))\n",
    "if Tax >100000:\n",
    "    print(\"15%\")\n",
    "elif Tax >50000 and Tax <=100000:\n",
    "    print(\"10%\")\n",
    "else :\n",
    "    print(\"5%\")\n",
    "\n"
   ]
  },
  {
   "cell_type": "code",
   "execution_count": null,
   "id": "6998c986-ba81-48a9-9dbc-9341cb5b7136",
   "metadata": {},
   "outputs": [],
   "source": [
    "\n",
    "#Answer 4:\n",
    "num = 81  # the given number\n",
    "count = 0  # initialize count to 0\n",
    "\n",
    "while num > 10:\n",
    "    num = num / 3\n",
    "    count += 1\n",
    "\n",
    "print(count)  # print the number of times divided by 3\n",
    "\n",
    "\n",
    "\n"
   ]
  },
  {
   "cell_type": "code",
   "execution_count": null,
   "id": "285d028c-1d11-4958-9cc1-90bc34fdd92c",
   "metadata": {},
   "outputs": [],
   "source": [
    "#Answer 6:\n",
    "\n",
    "Pattern 1:\n",
    "n = 5\n",
    "i = 1\n",
    "while i <= n:\n",
    "    j = 1\n",
    "    while j <= i:\n",
    "        print(j, end=\" \")\n",
    "        j += 1\n",
    "    print()\n",
    "    i += 1\n",
    "\n",
    "Pattern 2:\n",
    "n = 5\n",
    "i = n\n",
    "while i >= 1:\n",
    "    j = n\n",
    "    while j >= i:\n",
    "        print(j, end=\" \")\n",
    "        j -= 1\n",
    "    print()\n",
    "    i -= 1\n",
    "\n",
    "Pattern 3:\n",
    "n = 5\n",
    "i = 1\n",
    "while i <= n:\n",
    "    j = 1\n",
    "    while j <= i:\n",
    "        print(\"*\", end=\" \")\n",
    "        j += 1\n",
    "    print()\n",
    "    i += 1\n",
    "\n",
    "\n"
   ]
  },
  {
   "cell_type": "code",
   "execution_count": null,
   "id": "e1d20501-4b16-40a0-a940-ce65e8e9e0d8",
   "metadata": {},
   "outputs": [],
   "source": [
    "#Answer 7:\n",
    "num = 10  # start from 10\n",
    "\n",
    "while num >= 1:  # reverse condition\n",
    "    print(num)\n",
    "    num -= 1  # decrement the value of num in each iteration\n",
    "\n"
   ]
  },
  {
   "cell_type": "code",
   "execution_count": null,
   "id": "85df47f8-1df4-4912-aad6-ca38a817411e",
   "metadata": {},
   "outputs": [],
   "source": [
    "#Answer 8:\n",
    "num = 10  # start from 10\n",
    "\n",
    "while num >= 1:  # reverse condition\n",
    "    print(num)\n",
    "    num -= 1  # decrement the value of num in each iteration\n",
    "\n",
    "\n"
   ]
  }
 ],
 "metadata": {
  "kernelspec": {
   "display_name": "Python 3 (ipykernel)",
   "language": "python",
   "name": "python3"
  },
  "language_info": {
   "codemirror_mode": {
    "name": "ipython",
    "version": 3
   },
   "file_extension": ".py",
   "mimetype": "text/x-python",
   "name": "python",
   "nbconvert_exporter": "python",
   "pygments_lexer": "ipython3",
   "version": "3.10.8"
  }
 },
 "nbformat": 4,
 "nbformat_minor": 5
}
